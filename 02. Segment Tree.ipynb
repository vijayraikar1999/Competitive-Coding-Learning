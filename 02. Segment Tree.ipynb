{
 "cells": [
  {
   "cell_type": "markdown",
   "id": "9988b24c",
   "metadata": {},
   "source": [
    "### Bulid Segment Tree"
   ]
  },
  {
   "cell_type": "code",
   "execution_count": 58,
   "id": "28cc9770",
   "metadata": {},
   "outputs": [],
   "source": [
    "def buildTree(arr, tree, start, end, treeNode):\n",
    "    if start == end:\n",
    "        tree[treeNode] = arr[start]\n",
    "        return\n",
    "    \n",
    "    mid = (start + end) // 2\n",
    "    \n",
    "    child1 = 2 * treeNode\n",
    "    child2 = 2 * treeNode + 1\n",
    "    \n",
    "    buildTree(arr, tree, start, mid, child1)\n",
    "    buildTree(arr, tree, mid+1, end, child2)\n",
    "    \n",
    "    tree[treeNode] = tree[child1] + tree[child2]\n",
    "    "
   ]
  },
  {
   "cell_type": "code",
   "execution_count": 59,
   "id": "085ee82e",
   "metadata": {},
   "outputs": [
    {
     "name": "stdout",
     "output_type": "stream",
     "text": [
      "45\n",
      "15\n",
      "30\n",
      "6\n",
      "9\n",
      "13\n",
      "17\n",
      "3\n",
      "3\n",
      "4\n",
      "5\n",
      "6\n",
      "7\n",
      "8\n",
      "9\n",
      "1\n",
      "2\n"
     ]
    }
   ],
   "source": [
    "arr = [1, 2, 3, 4, 5, 6, 7, 8, 9]\n",
    "tree = [0 for i in range(18)]\n",
    "\n",
    "buildTree(arr, tree, 0, 8, 1)\n",
    "\n",
    "for i in range(1, 18):\n",
    "    print(tree[i])"
   ]
  },
  {
   "cell_type": "markdown",
   "id": "b59b6e0c",
   "metadata": {},
   "source": [
    "### Update Segment Tree"
   ]
  },
  {
   "cell_type": "code",
   "execution_count": 60,
   "id": "25ad5656",
   "metadata": {},
   "outputs": [
    {
     "name": "stdout",
     "output_type": "stream",
     "text": [
      "15\n",
      "6\n",
      "9\n",
      "3\n",
      "3\n",
      "4\n",
      "5\n",
      "1\n",
      "2\n"
     ]
    }
   ],
   "source": [
    "arr = [1, 2, 3, 4, 5]\n",
    "tree = [0 for i in range(10)]\n",
    "\n",
    "buildTree(arr, tree, 0, 4, 1)\n",
    "\n",
    "for i in range(1, 10):\n",
    "    print(tree[i])"
   ]
  },
  {
   "cell_type": "code",
   "execution_count": 61,
   "id": "d8b0d2e8",
   "metadata": {},
   "outputs": [],
   "source": [
    "def updateTree(arr, tree, index, start, end, treeNode, value):\n",
    "    if start == end and start == index:\n",
    "        tree[treeNode] = value\n",
    "        arr[index] = value\n",
    "        return\n",
    "    \n",
    "    mid = (start + end) // 2\n",
    "    child1 = 2 * treeNode\n",
    "    child2 = 2 * treeNode + 1\n",
    "    if index <= mid:\n",
    "        updateTree(arr, tree, index, start, mid, child1, value)\n",
    "    else:\n",
    "        updateTree(arr, tree, index, mid+1, end, child2, value)\n",
    "        \n",
    "    tree[treeNode] = tree[child1] + tree[child2]\n",
    "    "
   ]
  },
  {
   "cell_type": "code",
   "execution_count": 62,
   "id": "b02514ce",
   "metadata": {},
   "outputs": [
    {
     "name": "stdout",
     "output_type": "stream",
     "text": [
      "22\n",
      "13\n",
      "9\n",
      "3\n",
      "10\n",
      "4\n",
      "5\n",
      "1\n",
      "2\n"
     ]
    }
   ],
   "source": [
    "updateTree(arr, tree, 2, 0, 4, 1, 10)\n",
    "\n",
    "for i in range(1, 10):\n",
    "    print(tree[i])"
   ]
  },
  {
   "cell_type": "markdown",
   "id": "40f43b20",
   "metadata": {},
   "source": [
    "### Query on a Segment Tree"
   ]
  },
  {
   "cell_type": "code",
   "execution_count": 63,
   "id": "d6f12dc7",
   "metadata": {},
   "outputs": [],
   "source": [
    "def query(tree, start, end, treeNode, qStart, qEnd):\n",
    "    \n",
    "    if end < qStart or start > qEnd:\n",
    "        return 0\n",
    "    \n",
    "    if start >= qStart and end <= qEnd:\n",
    "        return tree[treeNode]\n",
    "    \n",
    "    \n",
    "    mid = (start + end) // 2\n",
    "    child1 = 2 * treeNode\n",
    "    child2 = 2 * treeNode + 1\n",
    "    \n",
    "    sumLeft = query(tree, start, mid, child1, qStart, qEnd)\n",
    "    sumRight = query(tree, mid+1, end, child2, qStart, qEnd)\n",
    "    \n",
    "    ansSum = sumLeft + sumRight\n",
    "    \n",
    "    return ansSum"
   ]
  },
  {
   "cell_type": "code",
   "execution_count": 67,
   "id": "fb99f62a",
   "metadata": {},
   "outputs": [
    {
     "name": "stdout",
     "output_type": "stream",
     "text": [
      "Sum of elements for interval(2, 4) is:  19\n"
     ]
    }
   ],
   "source": [
    "ans = query(tree, 0, 4, 1, 2, 4)\n",
    "print('Sum of elements for interval(2, 4) is: ', ans)"
   ]
  },
  {
   "cell_type": "markdown",
   "id": "fd136892",
   "metadata": {},
   "source": [
    "### Size of Segment Tree\n",
    "\n",
    "Size of Segment Tree won't be more than 4n .\n",
    "so 4n size Segment Tree will always work and won't show any error in any case."
   ]
  },
  {
   "cell_type": "markdown",
   "id": "37f4bcc6",
   "metadata": {},
   "source": [
    "### Question - 1\n",
    "**Max Pair Sum**"
   ]
  },
  {
   "cell_type": "code",
   "execution_count": null,
   "id": "e812b78c",
   "metadata": {},
   "outputs": [],
   "source": []
  }
 ],
 "metadata": {
  "kernelspec": {
   "display_name": "Python 3 (ipykernel)",
   "language": "python",
   "name": "python3"
  },
  "language_info": {
   "codemirror_mode": {
    "name": "ipython",
    "version": 3
   },
   "file_extension": ".py",
   "mimetype": "text/x-python",
   "name": "python",
   "nbconvert_exporter": "python",
   "pygments_lexer": "ipython3",
   "version": "3.8.10"
  }
 },
 "nbformat": 4,
 "nbformat_minor": 5
}
