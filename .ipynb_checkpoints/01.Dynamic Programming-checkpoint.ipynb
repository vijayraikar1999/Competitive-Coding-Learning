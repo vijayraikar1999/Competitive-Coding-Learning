{
 "cells": [
  {
   "cell_type": "markdown",
   "id": "2b53e5b5",
   "metadata": {},
   "source": [
    "## C. Equalize Codeforces"
   ]
  },
  {
   "cell_type": "code",
   "execution_count": 11,
   "id": "81440b9a",
   "metadata": {},
   "outputs": [
    {
     "name": "stdout",
     "output_type": "stream",
     "text": [
      "4\n",
      "1010\n",
      "1000\n",
      "1\n"
     ]
    }
   ],
   "source": [
    "n = int(input())\n",
    "a = input()\n",
    "b = input()\n",
    "n = len(a)\n",
    "ans = 0\n",
    "i = 0\n",
    "while i < n:\n",
    "    if i < n-1 and (a[i]!=b[i] and a[i]==b[i+1] and a[i+1]==b[i]):\n",
    "        ans += 1\n",
    "        i += 2\n",
    "    elif a[i] != b[i]:\n",
    "        ans += 1\n",
    "        i += 1\n",
    "    else:\n",
    "        i += 1\n",
    "        \n",
    "print(ans)        \n"
   ]
  },
  {
   "cell_type": "code",
   "execution_count": null,
   "id": "056a78aa",
   "metadata": {},
   "outputs": [],
   "source": []
  },
  {
   "cell_type": "markdown",
   "id": "ba491aea",
   "metadata": {},
   "source": [
    "## Minimum Cost\n",
    "\n",
    "**Minimum cost to reach the destination point.**"
   ]
  },
  {
   "cell_type": "code",
   "execution_count": 12,
   "id": "c1da93a5",
   "metadata": {},
   "outputs": [
    {
     "name": "stdout",
     "output_type": "stream",
     "text": [
      "14\n"
     ]
    }
   ],
   "source": [
    "# Memoaisation method\n",
    "def min_cost(grid, si, sj, ei, ej, dp):\n",
    "    \n",
    "    if si > ei or sj > ej:\n",
    "        return float('inf')\n",
    "    \n",
    "    if dp[si][sj] > -1:\n",
    "        return dp[si][sj]\n",
    "    \n",
    "    if si==ei and sj==ej:\n",
    "        return grid[ei][ej]\n",
    "    \n",
    "    option1 = min_cost(grid, si+1, sj, ei, ej, dp)\n",
    "    option2 = min_cost(grid, si+1, sj+1, ei, ej, dp)\n",
    "    option3 = min_cost(grid, si, sj+1, ei, ej, dp)\n",
    "    \n",
    "    ans = grid[si][sj] + min(option1, option2, option3)\n",
    "    dp[si][sj] = ans\n",
    "    return ans\n",
    "    \n",
    "\n",
    "grid = [[0 for i in range(3)] for j in range(3)]\n",
    "grid[0][0] = 4\n",
    "grid[0][1] = 3\n",
    "grid[0][2] = 2\n",
    "grid[1][0] = 1\n",
    "grid[1][1] = 8\n",
    "grid[1][2] = 3\n",
    "grid[2][0] = 1\n",
    "grid[2][1] = 1\n",
    "grid[2][2] = 8\n",
    "\n",
    "dp = [[-1 for i in range(3)] for j in range(3)]\n",
    "\n",
    "print(min_cost(grid, 0, 0, 2, 2, dp))"
   ]
  },
  {
   "cell_type": "code",
   "execution_count": 13,
   "id": "b0ada9e2",
   "metadata": {},
   "outputs": [],
   "source": [
    "# Tableuation method\n",
    "def min_costIt(grid, si, sj, ei, ej):\n",
    "    n = len(grid)\n",
    "    dp = [[-1 for j in range(n)] for i in range(n)]\n",
    "    dp[n-1][n-1] = grid[n-1][n-1]\n",
    "    \n",
    "    for i in range(n-2, -1, -1):\n",
    "        dp[i][n-1] = dp[i+1][n-1] + grid[i][n-1]\n",
    "        \n",
    "    for j in range(n-2, -1, -1):\n",
    "        dp[n-1][j] = dp[n-1][j+1] + grid[n-1][j]\n",
    "        \n",
    "    for i in range(n-2, -1, -1):\n",
    "        for j in range(n-2, -1, -1):\n",
    "            dp[i][j] = min(dp[i+1][j], dp[i][j+1], dp[i+1][j+1]) + grid[i][j]\n",
    "            \n",
    "    return dp[si][sj]\n",
    "\n"
   ]
  },
  {
   "cell_type": "code",
   "execution_count": 14,
   "id": "9f14a2b5",
   "metadata": {},
   "outputs": [
    {
     "name": "stdout",
     "output_type": "stream",
     "text": [
      "14\n"
     ]
    }
   ],
   "source": [
    "grid = [[0 for i in range(3)] for j in range(3)]\n",
    "grid[0][0] = 4\n",
    "grid[0][1] = 3\n",
    "grid[0][2] = 2\n",
    "grid[1][0] = 1\n",
    "grid[1][1] = 8\n",
    "grid[1][2] = 3\n",
    "grid[2][0] = 1\n",
    "grid[2][1] = 1\n",
    "grid[2][2] = 8\n",
    "\n",
    "print(min_costIt(grid, 0, 0, 2, 2))"
   ]
  },
  {
   "cell_type": "markdown",
   "id": "ea46f64a",
   "metadata": {},
   "source": [
    "### Longest Common Sub-Sequence"
   ]
  },
  {
   "cell_type": "code",
   "execution_count": 15,
   "id": "c22d8849",
   "metadata": {},
   "outputs": [
    {
     "name": "stdout",
     "output_type": "stream",
     "text": [
      "asdf;lkjghikl\n",
      "abcdefghijklm\n",
      "8\n"
     ]
    }
   ],
   "source": [
    "# This is slow one, it's very slow.\n",
    "\n",
    "def lcs(s1, s2):\n",
    "    if len(s1) == 0 or len(s2) == 0:\n",
    "        return 0\n",
    "    \n",
    "    if (s1[0] == s2[0]):\n",
    "        return 1 + lcs(s1[1:], s2[1:])\n",
    "    else:\n",
    "        ans1 = lcs(s1, s2[1:])\n",
    "        ans2 = lcs(s1[1:], s2)\n",
    "        return max(ans1, ans2)\n",
    "    \n",
    "a =  input()\n",
    "b = input()\n",
    "\n",
    "print(lcs(a, b))\n"
   ]
  },
  {
   "cell_type": "markdown",
   "id": "ce19863e",
   "metadata": {},
   "source": [
    "**Let's optimize it by storing values**"
   ]
  },
  {
   "cell_type": "code",
   "execution_count": 16,
   "id": "c46414e8",
   "metadata": {},
   "outputs": [
    {
     "name": "stdout",
     "output_type": "stream",
     "text": [
      "asdf;lkjghikl\n",
      "abcdefghiklm\n",
      "8\n"
     ]
    }
   ],
   "source": [
    "def lcs_dp(s1, s2, i, j, dp):\n",
    "    if len(s1) == 0 or len(s2) == 0:\n",
    "        return 0\n",
    "    \n",
    "    if dp[i][j] > -1:\n",
    "        return dp[i][j]\n",
    "    \n",
    "    if s1[0] == s2[0]:\n",
    "        return 1 + lcs_dp(s1[1:], s2[1:], i+1, j+1, dp)\n",
    "    else:\n",
    "        ans1 = lcs_dp(s1, s2[1:], i, j+1, dp)\n",
    "        ans2 = lcs_dp(s1[1:], s2, i+1, j, dp)\n",
    "        \n",
    "        dp[i][j] = max(ans1, ans2)\n",
    "        return dp[i][j]\n",
    "        \n",
    "a = input()\n",
    "b = input()\n",
    "m = len(a)\n",
    "n = len(b)\n",
    "dp = [[-1 for j in range(n)] for i in range(m)]\n",
    "ans = lcs_dp(a, b, 0, 0, dp)\n",
    "print(ans)"
   ]
  },
  {
   "cell_type": "markdown",
   "id": "e178f487",
   "metadata": {},
   "source": [
    "Let's write the iterative method for the same problem"
   ]
  },
  {
   "cell_type": "code",
   "execution_count": 17,
   "id": "38486950",
   "metadata": {},
   "outputs": [
    {
     "name": "stdout",
     "output_type": "stream",
     "text": [
      "asdf;lkjghikl\n",
      "abcdefghijklm\n",
      "8\n"
     ]
    }
   ],
   "source": [
    "def lcs_itr(s1, s2):\n",
    "    m = len(s1)\n",
    "    n = len(s2)\n",
    "    dp = [[0 for j in range(n)] for i in range(m)]\n",
    "    if s1[-1] == s2[-1]:\n",
    "        dp[m-1][n-1] = 1\n",
    "        \n",
    "    for i in range(m-2, -1, -1):\n",
    "        if dp[i+1][n-1] == 1:\n",
    "            dp[i][n-1] = 1\n",
    "        else:\n",
    "            if s1[i] == s2[n-1]:\n",
    "                dp[i][n-1] = 1\n",
    "                \n",
    "    for j in range(n-2, -1, -1):\n",
    "        if dp[m-1][j+1] == 1:\n",
    "            dp[m-1][j] = 1\n",
    "        else:\n",
    "            if s1[m-1] == s2[j]:\n",
    "                dp[m-1][j] = 1 \n",
    "                \n",
    "    for i in range(m-2, -1, -1):\n",
    "        for j in range(n-2, -1, -1):\n",
    "            if s1[i] == s2[j]:\n",
    "                dp[i][j] =  1 + dp[i+1][j+1]\n",
    "            else:\n",
    "                ans1 = dp[i][j+1]\n",
    "                ans2 = dp[i+1][j]\n",
    "                dp[i][j] = max(ans1, ans2)\n",
    "                \n",
    "    return dp[0][0]            \n",
    "                \n",
    "                \n",
    "a = input()\n",
    "b = input()\n",
    "ans = lcs_itr(a, b)\n",
    "print(ans)"
   ]
  },
  {
   "cell_type": "markdown",
   "id": "554b7e82",
   "metadata": {},
   "source": [
    "### Knapsack Problem"
   ]
  },
  {
   "cell_type": "code",
   "execution_count": 18,
   "id": "e979de30",
   "metadata": {},
   "outputs": [
    {
     "name": "stdout",
     "output_type": "stream",
     "text": [
      "15\n"
     ]
    }
   ],
   "source": [
    "# Iterative Solution\n",
    "def kNapsack(weights, values, n, W):\n",
    "    dp = [[0 for j in range(W+1)] for i in range(n)]\n",
    "    for i in range(1, n):\n",
    "        for w in range(1, W+1):\n",
    "            if weights[i] > w:\n",
    "                dp[i][w] = dp[i-1][w]\n",
    "            else:\n",
    "                dp[i][w] = max(dp[i-1][w], values[i] + dp[i-1][w-weights[i]])\n",
    "                \n",
    "    return dp[n-1][W]            \n",
    "weights = [0, 3, 2, 4, 1]\n",
    "values = [0, 8, 3, 9, 6]\n",
    "W = 5\n",
    "ans = kNapsack(weights, values, 5, 5)\n",
    "print(ans)"
   ]
  },
  {
   "cell_type": "markdown",
   "id": "dad9d254",
   "metadata": {},
   "source": [
    "### Subset_Sum\n",
    "\n",
    "Given an arrays of values , find out wheather there exists at least one subset of list having sum equal to given value k or not.\n",
    "\n",
    "Ex.\n",
    "values = [1, 3, 5, 7, 9], \n",
    "sum = 8\n",
    "\n",
    "so answer will be True since subset(1, 7) and subset(3, 5) can satisfy the given condition."
   ]
  },
  {
   "cell_type": "code",
   "execution_count": 26,
   "id": "bf471f6f",
   "metadata": {},
   "outputs": [
    {
     "name": "stdout",
     "output_type": "stream",
     "text": [
      "True\n"
     ]
    }
   ],
   "source": [
    "# Iterative Method\n",
    "def subset_sum(values, k, n):\n",
    "    dp = [[False for j in range(k+1)] for i in range(n)]\n",
    "    for i in range(n):\n",
    "        dp[i][0] = True\n",
    "    \n",
    "    for i in range(1, n):\n",
    "        for sum_val in range(1, k+1):\n",
    "            if values[i] > sum_val: \n",
    "                dp[i][sum_val] = dp[i-1][sum_val]\n",
    "            else:\n",
    "                dp[i][sum_val] = dp[i-1][sum_val] or dp[i-1][sum_val - values[i]]\n",
    "    \n",
    "    return dp[n-1][k]\n",
    "\n",
    "values = [0, 1, 3, 5, 7, 9]\n",
    "k = 8\n",
    "ans = subset_sum(values, k, 6)\n",
    "print(ans)"
   ]
  },
  {
   "cell_type": "code",
   "execution_count": null,
   "id": "4044dc8d",
   "metadata": {},
   "outputs": [],
   "source": []
  }
 ],
 "metadata": {
  "kernelspec": {
   "display_name": "Python 3 (ipykernel)",
   "language": "python",
   "name": "python3"
  },
  "language_info": {
   "codemirror_mode": {
    "name": "ipython",
    "version": 3
   },
   "file_extension": ".py",
   "mimetype": "text/x-python",
   "name": "python",
   "nbconvert_exporter": "python",
   "pygments_lexer": "ipython3",
   "version": "3.8.10"
  }
 },
 "nbformat": 4,
 "nbformat_minor": 5
}
