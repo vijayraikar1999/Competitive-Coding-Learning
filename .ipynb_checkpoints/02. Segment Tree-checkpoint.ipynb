{
 "cells": [
  {
   "cell_type": "markdown",
   "id": "9988b24c",
   "metadata": {},
   "source": [
    "### Bulid Segment Tree"
   ]
  },
  {
   "cell_type": "code",
   "execution_count": 1,
   "id": "28cc9770",
   "metadata": {},
   "outputs": [],
   "source": [
    "def buildTree(arr, tree, start, end, treeNode):\n",
    "    if start == end:\n",
    "        tree[treeNode] = arr[start]\n",
    "        return\n",
    "    \n",
    "    mid = (start + end) // 2\n",
    "    \n",
    "    child1 = 2 * treeNode\n",
    "    child2 = 2 * treeNode + 1\n",
    "    \n",
    "    buildTree(arr, tree, start, mid, child1)\n",
    "    buildTree(arr, tree, mid+1, end, child2)\n",
    "    \n",
    "    tree[treeNode] = tree[child1] + tree[child2]\n",
    "    "
   ]
  },
  {
   "cell_type": "code",
   "execution_count": 2,
   "id": "085ee82e",
   "metadata": {},
   "outputs": [
    {
     "name": "stdout",
     "output_type": "stream",
     "text": [
      "45\n",
      "15\n",
      "30\n",
      "6\n",
      "9\n",
      "13\n",
      "17\n",
      "3\n",
      "3\n",
      "4\n",
      "5\n",
      "6\n",
      "7\n",
      "8\n",
      "9\n",
      "1\n",
      "2\n"
     ]
    }
   ],
   "source": [
    "arr = [1, 2, 3, 4, 5, 6, 7, 8, 9]\n",
    "tree = [0 for i in range(18)]\n",
    "\n",
    "buildTree(arr, tree, 0, 8, 1)\n",
    "\n",
    "for i in range(1, 18):\n",
    "    print(tree[i])"
   ]
  },
  {
   "cell_type": "markdown",
   "id": "b59b6e0c",
   "metadata": {},
   "source": [
    "### Update Segment Tree"
   ]
  },
  {
   "cell_type": "code",
   "execution_count": 3,
   "id": "25ad5656",
   "metadata": {},
   "outputs": [
    {
     "name": "stdout",
     "output_type": "stream",
     "text": [
      "15\n",
      "6\n",
      "9\n",
      "3\n",
      "3\n",
      "4\n",
      "5\n",
      "1\n",
      "2\n"
     ]
    }
   ],
   "source": [
    "arr = [1, 2, 3, 4, 5]\n",
    "tree = [0 for i in range(10)]\n",
    "\n",
    "buildTree(arr, tree, 0, 4, 1)\n",
    "\n",
    "for i in range(1, 10):\n",
    "    print(tree[i])"
   ]
  },
  {
   "cell_type": "code",
   "execution_count": 4,
   "id": "d8b0d2e8",
   "metadata": {},
   "outputs": [],
   "source": [
    "def updateTree(arr, tree, index, start, end, treeNode, value):\n",
    "    if start == end and start == index:\n",
    "        tree[treeNode] = value\n",
    "        arr[index] = value\n",
    "        return\n",
    "    \n",
    "    mid = (start + end) // 2\n",
    "    child1 = 2 * treeNode\n",
    "    child2 = 2 * treeNode + 1\n",
    "    if index <= mid:\n",
    "        updateTree(arr, tree, index, start, mid, child1, value)\n",
    "    else:\n",
    "        updateTree(arr, tree, index, mid+1, end, child2, value)\n",
    "        \n",
    "    tree[treeNode] = tree[child1] + tree[child2]\n",
    "    "
   ]
  },
  {
   "cell_type": "code",
   "execution_count": 5,
   "id": "b02514ce",
   "metadata": {},
   "outputs": [
    {
     "name": "stdout",
     "output_type": "stream",
     "text": [
      "22\n",
      "13\n",
      "9\n",
      "3\n",
      "10\n",
      "4\n",
      "5\n",
      "1\n",
      "2\n"
     ]
    }
   ],
   "source": [
    "updateTree(arr, tree, 2, 0, 4, 1, 10)\n",
    "\n",
    "for i in range(1, 10):\n",
    "    print(tree[i])"
   ]
  },
  {
   "cell_type": "markdown",
   "id": "40f43b20",
   "metadata": {},
   "source": [
    "### Query on a Segment Tree"
   ]
  },
  {
   "cell_type": "code",
   "execution_count": 6,
   "id": "d6f12dc7",
   "metadata": {},
   "outputs": [],
   "source": [
    "def query(tree, start, end, treeNode, qStart, qEnd):\n",
    "    \n",
    "    if end < qStart or start > qEnd:\n",
    "        return 0\n",
    "    \n",
    "    if start >= qStart and end <= qEnd:\n",
    "        return tree[treeNode]\n",
    "    \n",
    "    \n",
    "    mid = (start + end) // 2\n",
    "    child1 = 2 * treeNode\n",
    "    child2 = 2 * treeNode + 1\n",
    "    \n",
    "    sumLeft = query(tree, start, mid, child1, qStart, qEnd)\n",
    "    sumRight = query(tree, mid+1, end, child2, qStart, qEnd)\n",
    "    \n",
    "    ansSum = sumLeft + sumRight\n",
    "    \n",
    "    return ansSum"
   ]
  },
  {
   "cell_type": "code",
   "execution_count": 7,
   "id": "fb99f62a",
   "metadata": {},
   "outputs": [
    {
     "name": "stdout",
     "output_type": "stream",
     "text": [
      "Sum of elements for interval(2, 4) is:  19\n"
     ]
    }
   ],
   "source": [
    "ans = query(tree, 0, 4, 1, 2, 4)\n",
    "print('Sum of elements for interval(2, 4) is: ', ans)"
   ]
  },
  {
   "cell_type": "markdown",
   "id": "fd136892",
   "metadata": {},
   "source": [
    "### Size of Segment Tree\n",
    "\n",
    "Size of Segment Tree won't be more than 4n .\n",
    "so 4n size Segment Tree will always work and won't show any error in any case."
   ]
  },
  {
   "cell_type": "markdown",
   "id": "37f4bcc6",
   "metadata": {},
   "source": [
    "### Question - 1\n",
    "**Max Pair Sum**\n",
    "\n",
    "* <p style=\"font-size:120%; color:black \">Q. Given an array and find out the maximum sum pair(two number with maximum sum in given array) between two given indexes.</p>\n",
    "\n",
    "Ex.\n",
    "arr = [2, 3, 1, 5, 7, 6]\n",
    "find max sum pair in interval (0, 2)\n",
    "\n",
    "maxsum pairs for (0, 2) would be 2, 3."
   ]
  },
  {
   "cell_type": "code",
   "execution_count": 25,
   "id": "e812b78c",
   "metadata": {},
   "outputs": [],
   "source": [
    "class Node:\n",
    "    \n",
    "    def __init__(self, maximum=None, second_maximum=None):\n",
    "        self.maximum = maximum\n",
    "        self.second_maximum = second_maximum\n",
    "    "
   ]
  },
  {
   "cell_type": "markdown",
   "id": "1f34d8c0",
   "metadata": {},
   "source": [
    "<img src='max_sum_pair1.png'>\n",
    "\n",
    "**Case 1** - <p style=\"font-size:120%; color:blue \">When <b style=\"color:black\">Max1</b> is maximum among all:</p>\n",
    "<p style=\"font-size:110%; color:black \">In this case , our second maximum is gonna be maximum of Max2 and S_max1, because S_max2 is already less than Max2, so we don't need to consider S_max2 as candidate for second maximum.</p>\n",
    "\n",
    "**Case 2** - <p style=\"font-size:120%; color:blue \">When <b style=\"color:black\">Max2</b> is maximum among all:</p>\n",
    "<p style=\"font-size:110%; color:black \">In this case , our second maximum is gonna be maximum of Max1 and S_max2, because S_max1 is already less than Max1, so we don't need to consider S_max1 as candidate for second maximum.</p>\n",
    "\n",
    "\n",
    "<p style=\"font-size:120%\">Now Max(Max1, S_max2) and Max(Max2, S_max1) are gonna give us our maximum and second maximum value, Now to find out second maximum ,we just need to take min() of both of these.</p>\n",
    "\n",
    "<p style=\"font-size:120%\">So, second_maximum = min(max(max1, s_max2), max(max2, s_max1))</p>\n",
    "\n"
   ]
  },
  {
   "cell_type": "code",
   "execution_count": 42,
   "id": "0eb7b0a5",
   "metadata": {},
   "outputs": [],
   "source": [
    "def build_pair_tree(arr, tree, treeIndex, start, end):\n",
    "    if start == end:\n",
    "        tree[treeIndex].maximum = arr[start]\n",
    "        tree[treeIndex].second_maximum = float('-inf')\n",
    "        return\n",
    "        \n",
    "    mid = (start + end) // 2\n",
    "    child1 = 2 * treeIndex\n",
    "    child2 = 2 * treeIndex + 1\n",
    "    \n",
    "    buildTree(arr, tree, child1, start, mid)\n",
    "    buildTree(arr, tree, child2, mid+1, end)\n",
    "    \n",
    "    max1 = tree[child1].maximum\n",
    "    s_max1 = tree[child1].second_maximum\n",
    "    max2 = tree[child2].maximum\n",
    "    s_max2 = tree[child2].second_maximum\n",
    "    \n",
    "    tree[treeIndex].maximum = max(max1, max2)\n",
    "    \n",
    "    tree[treeIndex].second_maximum = min(max(max1, s_max2), max(max2, s_max1))\n",
    "    \n",
    "def sum_qeury(tree, start, end, treeIndex, qStart, qEnd):\n",
    "    if start == end:\n",
    "        return tree[treeIndex].maximum, float('-inf')\n",
    "    \n",
    "    if (qStart > end) or (qEnd < start):\n",
    "        return float('-inf'), float('-inf')\n",
    "    \n",
    "    mid = (start + end) // 2\n",
    "    \n",
    "    child1 = 2 * treeIndex\n",
    "    child2 = 2 * treeIndex + 1\n",
    "    \n",
    "    max1, s_max1 = sum_qeury(tree, start, mid, child1, qStart, qEnd)\n",
    "    max2, s_max2 = sum_qeury(tree, mid+1, end, child2, qStart, qEnd)\n",
    "    \n",
    "    ans_max = max(max1, max2)\n",
    "    ans_second_max = min(max(max1, s_max2), max(max2, s_max1))\n",
    "    \n",
    "    return ans_max, ans_second_max\n",
    "        "
   ]
  },
  {
   "cell_type": "code",
   "execution_count": 45,
   "id": "a6e61e18",
   "metadata": {},
   "outputs": [
    {
     "name": "stdout",
     "output_type": "stream",
     "text": [
      "6\n",
      "2 1 3 5 7 6\n",
      "None None\n",
      "7 6\n",
      "3 2\n",
      "7 6\n",
      "2 1\n",
      "3 -inf\n",
      "7 5\n",
      "6 -inf\n",
      "2 -inf\n",
      "1 -inf\n",
      "None None\n",
      "None None\n",
      "5 -inf\n",
      "7 -inf\n",
      "None None\n",
      "None None\n",
      "None None\n",
      "None None\n",
      "max sum pair in interval(0, 2) is:  (3, 2)\n"
     ]
    }
   ],
   "source": [
    "n = int(input())\n",
    "arr = [int(ele) for ele in input().split()]\n",
    "\n",
    "tree = [Node() for i in range(3*n)]\n",
    "\n",
    "buildTree(arr, tree, 1, 0, n-1)\n",
    "\n",
    "for i in range(3*n):\n",
    "    print(tree[i].maximum, tree[i].second_maximum)\n",
    "    \n",
    "    \n",
    "print('max sum pair in interval(0, 2) is: ',sum_qeury(tree, 0, n-1, 1, 0, 2))            "
   ]
  },
  {
   "cell_type": "markdown",
   "id": "08177b0d",
   "metadata": {},
   "source": [
    "### Maximum Sum in Subarray"
   ]
  },
  {
   "cell_type": "code",
   "execution_count": 49,
   "id": "97d6206b",
   "metadata": {},
   "outputs": [],
   "source": [
    "def build_subarray_tree(arr, tree, treeIndex, start, end):\n",
    "    if start == end:\n",
    "        tree[treeIndex]= arr[start]\n",
    "        return\n",
    "    \n",
    "    mid = (start + end) // 2\n",
    "    \n",
    "    child1 = 2 * treeIndex\n",
    "    child2 = 2 * treeIndex + 1\n",
    "    \n",
    "    build_subarray_tree(arr, tree, child1, start, mid)\n",
    "    build_subarray_tree(arr, tree, child2, mid+1, end)\n",
    "    \n",
    "    maxLeft = tree[chlid1]\n",
    "    maxRight = tree[child2]\n",
    "    ansSum = 0\n",
    "    \n",
    "    # yet to implement\n",
    "    pass\n",
    "\n",
    "\n",
    "    \n",
    "    "
   ]
  },
  {
   "cell_type": "code",
   "execution_count": null,
   "id": "03c03ffb",
   "metadata": {},
   "outputs": [],
   "source": [
    "def subarray_qeury(tree, start, end, treeIndex, qStart, qEnd):\n",
    "    if start == end:\n",
    "        return tree[treeIndex]\n",
    "    \n",
    "    if (qStart > end) or (qEnd < start):\n",
    "        return 0\n",
    "    \n",
    "    if start >= qStart and end <= qEnd:\n",
    "        return tree[treeIndex]\n",
    "    \n",
    "    mid = (start + end) // 2\n",
    "    \n",
    "    child1 = 2 * treeIndex\n",
    "    child2 = 2 * treeIndex + 1\n",
    "    \n",
    "    maxLeft = subarray_qeury(tree, start, mid, child1, qStart, qEnd)\n",
    "    maxRight = subarray_qeury(tree, mid+1, end, child2, qStart, qEnd)\n",
    "    \n",
    "    # yet to implement\n",
    "    pass    "
   ]
  }
 ],
 "metadata": {
  "kernelspec": {
   "display_name": "Python 3 (ipykernel)",
   "language": "python",
   "name": "python3"
  },
  "language_info": {
   "codemirror_mode": {
    "name": "ipython",
    "version": 3
   },
   "file_extension": ".py",
   "mimetype": "text/x-python",
   "name": "python",
   "nbconvert_exporter": "python",
   "pygments_lexer": "ipython3",
   "version": "3.8.10"
  }
 },
 "nbformat": 4,
 "nbformat_minor": 5
}
