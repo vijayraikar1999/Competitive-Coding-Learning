{
 "cells": [
  {
   "cell_type": "markdown",
   "id": "2b53e5b5",
   "metadata": {},
   "source": [
    "## C. Equalize Codeforces"
   ]
  },
  {
   "cell_type": "code",
   "execution_count": 6,
   "id": "81440b9a",
   "metadata": {},
   "outputs": [
    {
     "name": "stdout",
     "output_type": "stream",
     "text": [
      "4\n",
      "1010\n",
      "1011\n",
      "1\n"
     ]
    }
   ],
   "source": [
    "n = int(input())\n",
    "a = input()\n",
    "b = input()\n",
    "n = len(a)\n",
    "ans = 0\n",
    "i = 0\n",
    "while i < n:\n",
    "    if i < n-1 and (a[i]!=b[i] and a[i]==b[i+1] and a[i+1]==b[i]):\n",
    "        ans += 1\n",
    "        i += 2\n",
    "    elif a[i] != b[i]:\n",
    "        ans += 1\n",
    "        i += 1\n",
    "    else:\n",
    "        i += 1\n",
    "        \n",
    "print(ans)        \n"
   ]
  },
  {
   "cell_type": "code",
   "execution_count": null,
   "id": "056a78aa",
   "metadata": {},
   "outputs": [],
   "source": []
  },
  {
   "cell_type": "markdown",
   "id": "ba491aea",
   "metadata": {},
   "source": [
    "## Minimum Cost"
   ]
  },
  {
   "cell_type": "code",
   "execution_count": 25,
   "id": "c1da93a5",
   "metadata": {},
   "outputs": [
    {
     "name": "stdout",
     "output_type": "stream",
     "text": [
      "14\n"
     ]
    }
   ],
   "source": [
    "# Memoaisation method\n",
    "def min_cost(grid, si, sj, ei, ej, dp):\n",
    "    \n",
    "    if si > ei or sj > ej:\n",
    "        return float('inf')\n",
    "    \n",
    "    if dp[si][sj] > -1:\n",
    "        return dp[si][sj]\n",
    "    \n",
    "    if si==ei and sj==ej:\n",
    "        return grid[ei][ej]\n",
    "    \n",
    "    option1 = min_cost(grid, si+1, sj, ei, ej, dp)\n",
    "    option2 = min_cost(grid, si+1, sj+1, ei, ej, dp)\n",
    "    option3 = min_cost(grid, si, sj+1, ei, ej, dp)\n",
    "    \n",
    "    ans = grid[si][sj] + min(option1, option2, option3)\n",
    "    dp[si][sj] = ans\n",
    "    return ans\n",
    "    \n",
    "\n",
    "grid = [[0 for i in range(3)] for j in range(3)]\n",
    "grid[0][0] = 4\n",
    "grid[0][1] = 3\n",
    "grid[0][2] = 2\n",
    "grid[1][0] = 1\n",
    "grid[1][1] = 8\n",
    "grid[1][2] = 3\n",
    "grid[2][0] = 1\n",
    "grid[2][1] = 1\n",
    "grid[2][2] = 8\n",
    "\n",
    "dp = [[-1 for i in range(3)] for j in range(3)]\n",
    "\n",
    "print(min_cost(grid, 0, 0, 2, 2, dp))"
   ]
  },
  {
   "cell_type": "code",
   "execution_count": 32,
   "id": "b0ada9e2",
   "metadata": {},
   "outputs": [],
   "source": [
    "# Tableuation method\n",
    "def min_costIt(grid, si, sj, ei, ej):\n",
    "    n = len(grid)\n",
    "    dp = [[-1 for j in range(n)] for i in range(n)]\n",
    "    dp[n-1][n-1] = grid[n-1][n-1]\n",
    "    \n",
    "    for i in range(n-2, -1, -1):\n",
    "        dp[i][n-1] = dp[i+1][n-1] + grid[i][n-1]\n",
    "        \n",
    "    for j in range(n-2, -1, -1):\n",
    "        dp[n-1][j] = dp[n-1][j+1] + grid[n-1][j]\n",
    "        \n",
    "    for i in range(n-2, -1, -1):\n",
    "        for j in range(n-2, -1, -1):\n",
    "            dp[i][j] = min(dp[i+1][j], dp[i][j+1], dp[i+1][j+1]) + grid[i][j]\n",
    "            \n",
    "    return dp[si][sj]\n",
    "\n"
   ]
  },
  {
   "cell_type": "code",
   "execution_count": 33,
   "id": "9f14a2b5",
   "metadata": {},
   "outputs": [
    {
     "name": "stdout",
     "output_type": "stream",
     "text": [
      "14\n"
     ]
    }
   ],
   "source": [
    "grid = [[0 for i in range(3)] for j in range(3)]\n",
    "grid[0][0] = 4\n",
    "grid[0][1] = 3\n",
    "grid[0][2] = 2\n",
    "grid[1][0] = 1\n",
    "grid[1][1] = 8\n",
    "grid[1][2] = 3\n",
    "grid[2][0] = 1\n",
    "grid[2][1] = 1\n",
    "grid[2][2] = 8\n",
    "\n",
    "print(min_costIt(grid, 0, 0, 2, 2))"
   ]
  },
  {
   "cell_type": "markdown",
   "id": "ea46f64a",
   "metadata": {},
   "source": [
    "### Longest Common Sub-Sequence"
   ]
  },
  {
   "cell_type": "code",
   "execution_count": null,
   "id": "c22d8849",
   "metadata": {},
   "outputs": [],
   "source": [
    "def lcs(s1, s2):\n",
    "    if len(s1) == 0 or len(s2) == 0:\n",
    "        return 0\n",
    "    \n",
    "    if (s1[0] == s2[0]):\n",
    "        return 1 + lcs(s1[1:], s2[1:])\n",
    "    else:\n",
    "        ans1 = lcs(s1, s2[1:])\n",
    "        ans2 = lcs(s1[1:], s2)\n",
    "        return max(ans1, ans2)\n",
    "    \n",
    "a =     \n",
    "        \n",
    "    \n",
    "        \n",
    "        "
   ]
  }
 ],
 "metadata": {
  "kernelspec": {
   "display_name": "Python 3 (ipykernel)",
   "language": "python",
   "name": "python3"
  },
  "language_info": {
   "codemirror_mode": {
    "name": "ipython",
    "version": 3
   },
   "file_extension": ".py",
   "mimetype": "text/x-python",
   "name": "python",
   "nbconvert_exporter": "python",
   "pygments_lexer": "ipython3",
   "version": "3.8.10"
  }
 },
 "nbformat": 4,
 "nbformat_minor": 5
}
